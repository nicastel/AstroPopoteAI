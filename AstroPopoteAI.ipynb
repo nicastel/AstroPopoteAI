{
  "cells": [
    {
      "cell_type": "markdown",
      "metadata": {
        "id": "view-in-github",
        "colab_type": "text"
      },
      "source": [
        "<a href=\"https://colab.research.google.com/github/nicastel/AstroPopoteAI/blob/main/AstroPopoteAI.ipynb\" target=\"_parent\"><img src=\"https://colab.research.google.com/assets/colab-badge.svg\" alt=\"Open In Colab\"/></a>"
      ]
    },
    {
      "cell_type": "markdown",
      "source": [
        "# AstroPopoteAI v0.2.0"
      ],
      "metadata": {
        "id": "DywEpn3wGaHd"
      }
    },
    {
      "cell_type": "markdown",
      "metadata": {
        "id": "-rCqtBh208_b"
      },
      "source": [
        "# Steps to run\n",
        "1. Runtime -> Run All  OR  Ctrl-f9 OR Click the ⏵ button on the left for each of the cells below\n",
        "2. Enjoy! (Open the url at the last cell)\n",
        "3. Give the [repo](https://github.com/nicastel/AstroPopoteAI) a ⭐ so other people can find out about it."
      ]
    },
    {
      "cell_type": "code",
      "execution_count": null,
      "metadata": {
        "id": "y2w8hAM0ntmH",
        "collapsed": true
      },
      "outputs": [],
      "source": [
        "# @title Download AstroPopoteAI and dependencies\n",
        "%cd /content/\n",
        "!wget https://github.com/nicastel/AstroPopoteAI/archive/refs/tags/0.2.0.zip\n",
        "!mv 0.2.0.zip AstroPopoteAI.zip\n",
        "!unzip -o AstroPopoteAI.zip\n",
        "!rm -rf AstroPopoteAI\n",
        "!mv AstroPopoteAI-0.2.0 AstroPopoteAI\n",
        "#dependencies\n",
        "%cd AstroPopoteAI\n",
        "!pip3 install -r requirements.txt # onnx cpu, but we can use colabs free gpu with:\n",
        "#siril\n",
        "!wget https://gitlab.com/free-astro/pysiril/uploads/8224707c29669f255ad43da3b93bc5ec/pysiril-0.0.15-py3-none-any.whl\n",
        "!pip3 install pysiril-0.0.15-py3-none-any.whl\n",
        "!add-apt-repository -y ppa:lock042/siril\n",
        "!apt-get install siril\n",
        "!wget https://free-astro.org/download/kstars-siril-catalogues/namedstars.dat.xz\n",
        "!unxz namedstars.dat.xz\n",
        "!wget https://free-astro.org/download/kstars-siril-catalogues/unnamedstars.dat.xz\n",
        "!unxz unnamedstars.dat.xz\n",
        "!wget https://free-astro.org/download/kstars-siril-catalogues/deepstars.dat.xz\n",
        "!unxz deepstars.dat.xz\n",
        "!wget https://free-astro.org/download/kstars-siril-catalogues/USNO-NOMAD-1e8.dat.xz\n",
        "!unxz USNO-NOMAD-1e8.dat.xz\n",
        "# astap\n",
        "!wget https://github.com/nicastel/AstroPopoteAI/releases/download/astap/astap_command-line_version_Linux_amd64.zip\n",
        "!unzip astap_command-line_version_Linux_amd64.zip\n",
        "!wget -O d20_star_database.zip \"https://drive.usercontent.google.com/download?id=1aCAKK0tB6eCNrzqPvwfCq-vg70ik0Ug4&export=download&authuser=0&confirm=t&uuid=a4415b42-70d3-4bd4-8025-7889ce24e518&at=APZUnTWIGJsa5pA0mQlPiX83UAgi%3A1713168442602\"\n",
        "!unzip d20_star_database.zip\n",
        "# graxpert\n",
        "!wget https://github.com/Steffenhir/GraXpert/archive/refs/tags/3.0.2.zip\n",
        "!mv 3.0.2.zip GraXpert-3.0.2.zip\n",
        "!unzip GraXpert-3.0.2.zip\n",
        "!cp s3_secrets.py GraXpert-3.0.2/graxpert/\n",
        "# starnet\n",
        "!wget https://github.com/nicastel/starnet/releases/download/starnetv1/starnet_weights2.zip\n",
        "!unzip starnet_weights2.zip\n",
        "!chmod +x run_starnet.sh\n",
        "# scunet\n",
        "!wget https://github.com/cszn/KAIR/releases/download/v1.0/scunet_color_real_psnr.pth"
      ]
    },
    {
      "cell_type": "code",
      "execution_count": null,
      "metadata": {
        "id": "dfZshEGG-auh",
        "cellView": "form"
      },
      "outputs": [],
      "source": [
        "#@title Define tunnel functions\n",
        "import atexit, os, platform, re, subprocess, requests, stat, secrets, time\n",
        "from pathlib import Path\n",
        "from typing import List\n",
        "\n",
        "VERSION = \"0.2\"\n",
        "CURRENT_TUNNELS: List[\"Tunnel\"] = []\n",
        "GRADIO_API_SERVER = \"https://api.gradio.app/v2/tunnel-request\"\n",
        "\n",
        "class Tunnel:\n",
        "    def __init__(self, remote_host, remote_port, local_host, local_port, share_token):\n",
        "        self.proc = None\n",
        "        self.url = None\n",
        "        self.remote_host = remote_host\n",
        "        self.remote_port = remote_port\n",
        "        self.local_host = local_host\n",
        "        self.local_port = local_port\n",
        "        self.share_token = share_token\n",
        "\n",
        "    @staticmethod\n",
        "    def download_binary():\n",
        "        machine = platform.machine()\n",
        "        if machine == \"x86_64\":\n",
        "            machine = \"amd64\"\n",
        "\n",
        "        binary_name = f\"frpc_{platform.system().lower()}_{machine.lower()}\"\n",
        "        #binary_path = str(Path(__file__).parent / binary_name) + f\"_v{VERSION}\"\n",
        "\n",
        "        binary_path = f\"/content/AstroPopoteAI/{binary_name}_v{VERSION}\"\n",
        "\n",
        "        extension = \".exe\" if os.name == \"nt\" else \"\"\n",
        "\n",
        "        if not Path(binary_path).exists():\n",
        "            binary_url = f\"https://cdn-media.huggingface.co/frpc-gradio-{VERSION}/{binary_name}{extension}\"\n",
        "            resp = requests.get(binary_url)\n",
        "\n",
        "            if resp.status_code == 403:\n",
        "                raise OSError(\n",
        "                    f\"Cannot set up a share link as this platform is incompatible. Please \"\n",
        "                    f\"create a GitHub issue with information about your platform: {platform.uname()}\"\n",
        "                )\n",
        "\n",
        "            resp.raise_for_status()\n",
        "\n",
        "            with open(binary_path, \"wb\") as file:\n",
        "                file.write(resp.content)\n",
        "            st = os.stat(binary_path)\n",
        "            os.chmod(binary_path, st.st_mode | stat.S_IEXEC)\n",
        "\n",
        "        return binary_path\n",
        "\n",
        "    def start_tunnel(self) -> str:\n",
        "        binary_path = self.download_binary()\n",
        "        self.url = self._start_tunnel(binary_path)\n",
        "        return self.url\n",
        "\n",
        "    def kill(self):\n",
        "        if self.proc is not None:\n",
        "            print(f\"Killing tunnel {self.local_host}:{self.local_port} <> {self.url}\")\n",
        "            self.proc.terminate()\n",
        "            self.proc = None\n",
        "\n",
        "    def _start_tunnel(self, binary: str) -> str:\n",
        "        CURRENT_TUNNELS.append(self)\n",
        "        command = [binary, \"http\", \"-n\", self.share_token, \"-l\", str(self.local_port), \"-i\", self.local_host, \"--uc\", \"--sd\", \"random\", \"--ue\", \"--server_addr\", f\"{self.remote_host}:{self.remote_port}\", \"--disable_log_color\"]\n",
        "        self.proc = subprocess.Popen(command, stdout=subprocess.PIPE, stderr=subprocess.PIPE)\n",
        "        atexit.register(self.kill)\n",
        "        url = \"\"\n",
        "        while url == \"\":\n",
        "            if self.proc.stdout is None:\n",
        "                continue\n",
        "            line = self.proc.stdout.readline()\n",
        "            line = line.decode(\"utf-8\")\n",
        "            if \"start proxy success\" in line:\n",
        "                result = re.search(\"start proxy success: (.+)\\n\", line)\n",
        "                if result is None:\n",
        "                    raise ValueError(\"Could not create share URL\")\n",
        "                else:\n",
        "                    url = result.group(1)\n",
        "        return url\n",
        "\n",
        "def setup_tunnel(local_host: str, local_port: int, share_token: str) -> str:\n",
        "    response = requests.get(GRADIO_API_SERVER)\n",
        "    if response and response.status_code == 200:\n",
        "        try:\n",
        "            payload = response.json()[0]\n",
        "            remote_host, remote_port = payload[\"host\"], int(payload[\"port\"])\n",
        "            tunnel = Tunnel( remote_host, remote_port, local_host, local_port, share_token )\n",
        "            address = tunnel.start_tunnel()\n",
        "            return address\n",
        "        except Exception as e:\n",
        "            raise RuntimeError(str(e))\n",
        "    else:\n",
        "        raise RuntimeError(\"Could not get share link from Gradio API Server.\")"
      ]
    },
    {
      "cell_type": "code",
      "execution_count": null,
      "metadata": {
        "cellView": "form",
        "id": "Lv4OII9F8BV6"
      },
      "outputs": [],
      "source": [
        "# @title Start AstroPopoteAI\n",
        "\n",
        "%cd /content/AstroPopoteAI/\n",
        "\n",
        "tunnel_url = setup_tunnel(\"localhost\", 7860, secrets.token_urlsafe(32))\n",
        "print(f\"If everything's working, you can can finally start cooking!\\nPlease visit: {tunnel_url} after the final cell starts running\\n\\nGo here for some general tips & tricks, and remember to give the project a star if you found it useful!\\nhttps://github.com/nicastel/AstroPopoteAI\")\n",
        "\n",
        "!streamlit run app.py --server.port 7860"
      ]
    }
  ],
  "metadata": {
    "accelerator": "GPU",
    "colab": {
      "gpuType": "L4",
      "provenance": [],
      "machine_shape": "hm",
      "include_colab_link": true
    },
    "kernelspec": {
      "display_name": "Python 3",
      "name": "python3"
    },
    "language_info": {
      "name": "python"
    }
  },
  "nbformat": 4,
  "nbformat_minor": 0
}